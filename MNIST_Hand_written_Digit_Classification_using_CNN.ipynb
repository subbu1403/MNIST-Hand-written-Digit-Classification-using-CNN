{
  "nbformat": 4,
  "nbformat_minor": 0,
  "metadata": {
    "colab": {
      "provenance": []
    },
    "kernelspec": {
      "name": "python3",
      "display_name": "Python 3"
    },
    "language_info": {
      "name": "python"
    }
  },
  "cells": [
    {
      "cell_type": "code",
      "source": [
        "import tensorflow as tf\n",
        "from matplotlib import pyplot as plt\n",
        "import numpy as np\n",
        "from keras.datasets import mnist\n",
        "from keras.models import Sequential\n",
        "from keras import models,layers"
      ],
      "metadata": {
        "id": "Ouj4izAdvzK9"
      },
      "execution_count": 2,
      "outputs": []
    },
    {
      "cell_type": "code",
      "source": [
        "(train_img,train_lab),(test_img,test_lab) = mnist.load_data()"
      ],
      "metadata": {
        "id": "zZ2G2Eevv3UA"
      },
      "execution_count": 3,
      "outputs": []
    },
    {
      "cell_type": "code",
      "source": [
        "for i in range (20):\n",
        "  plt.subplot(4,5,i+1)\n",
        "  plt.imshow(train_img[i],cmap = 'gray')\n",
        "  plt.title(\"digit : {}\".format(train_lab[i]))\n",
        "  plt.subplots_adjust(top=1)\n",
        "  plt.axis('off')"
      ],
      "metadata": {
        "colab": {
          "base_uri": "https://localhost:8080/",
          "height": 479
        },
        "id": "MtOPO7CXv9_4",
        "outputId": "971f3e43-9d6e-4f31-a2e9-a10ec131a25d"
      },
      "execution_count": 4,
      "outputs": [
        {
          "output_type": "display_data",
          "data": {
            "text/plain": [
              "<Figure size 640x480 with 20 Axes>"
            ],
            "image/png": "[encoded data removed]"
          },
          "metadata": {}
        }
      ]
    },
    {
      "cell_type": "code",
      "source": [
        "train_img=train_img/255.0\n",
        "test_img=test_img/225.0"
      ],
      "metadata": {
        "id": "K5G5TpKkwB-h"
      },
      "execution_count": 5,
      "outputs": []
    },
    {
      "cell_type": "code",
      "source": [
        "model=models.Sequential()\n",
        "model.add(layers.Conv2D(32,(3,3),activation='relu',input_shape=(28,28,1)))\n",
        "model.add(layers.MaxPooling2D((2,2)))\n",
        "model.add(layers.Conv2D(64,(3,3),activation='relu'))\n",
        "model.add(layers.MaxPooling2D((2,2)))\n",
        "model.add(layers.Conv2D(64,(3,3),activation='relu'))\n",
        "model.add(layers.Flatten())\n",
        "model.add(layers.Dense(64,activation='relu'))\n",
        "model.add(layers.Dense(10,activation='softmax'))\n",
        "model.compile(optimizer='adam',loss='sparse_categorical_crossentropy',metrics=['accuracy'])"
      ],
      "metadata": {
        "id": "edkDai75wFyW"
      },
      "execution_count": 6,
      "outputs": []
    },
    {
      "cell_type": "code",
      "source": [
        "model.fit(train_img,train_lab,epochs=20,batch_size=500)\n",
        "test_loss,test_acc=model.evaluate(test_img,test_lab)\n",
        "print('test accuracy:',test_acc)"
      ],
      "metadata": {
        "colab": {
          "base_uri": "https://localhost:8080/"
        },
        "id": "EHGcUDhMwLV8",
        "outputId": "ecada3ad-aa85-4c88-89c2-a5bad197d89e"
      },
      "execution_count": 7,
      "outputs": [
        {
          "output_type": "stream",
          "name": "stdout",
          "text": [
            "Epoch 1/20\n",
            "\u001b[1m120/120\u001b[0m \u001b[32m━━━━━━━━━━━━━━━━━━━━\u001b[0m\u001b[37m\u001b[0m \u001b[1m55s\u001b[0m 440ms/step - accuracy: 0.6980 - loss: 1.0655\n",
            "Epoch 2/20\n",
            "\u001b[1m120/120\u001b[0m \u001b[32m━━━━━━━━━━━━━━━━━━━━\u001b[0m\u001b[37m\u001b[0m \u001b[1m49s\u001b[0m 408ms/step - accuracy: 0.9604 - loss: 0.1281\n",
            "Epoch 3/20\n",
            "\u001b[1m120/120\u001b[0m \u001b[32m━━━━━━━━━━━━━━━━━━━━\u001b[0m\u001b[37m\u001b[0m \u001b[1m84s\u001b[0m 423ms/step - accuracy: 0.9761 - loss: 0.0771\n",
            "Epoch 4/20\n",
            "\u001b[1m120/120\u001b[0m \u001b[32m━━━━━━━━━━━━━━━━━━━━\u001b[0m\u001b[37m\u001b[0m \u001b[1m83s\u001b[0m 431ms/step - accuracy: 0.9826 - loss: 0.0567\n",
            "Epoch 5/20\n",
            "\u001b[1m120/120\u001b[0m \u001b[32m━━━━━━━━━━━━━━━━━━━━\u001b[0m\u001b[37m\u001b[0m \u001b[1m81s\u001b[0m 425ms/step - accuracy: 0.9853 - loss: 0.0483\n",
            "Epoch 6/20\n",
            "\u001b[1m120/120\u001b[0m \u001b[32m━━━━━━━━━━━━━━━━━━━━\u001b[0m\u001b[37m\u001b[0m \u001b[1m49s\u001b[0m 409ms/step - accuracy: 0.9880 - loss: 0.0375\n",
            "Epoch 7/20\n",
            "\u001b[1m120/120\u001b[0m \u001b[32m━━━━━━━━━━━━━━━━━━━━\u001b[0m\u001b[37m\u001b[0m \u001b[1m82s\u001b[0m 410ms/step - accuracy: 0.9899 - loss: 0.0341\n",
            "Epoch 8/20\n",
            "\u001b[1m120/120\u001b[0m \u001b[32m━━━━━━━━━━━━━━━━━━━━\u001b[0m\u001b[37m\u001b[0m \u001b[1m82s\u001b[0m 408ms/step - accuracy: 0.9913 - loss: 0.0289\n",
            "Epoch 9/20\n",
            "\u001b[1m120/120\u001b[0m \u001b[32m━━━━━━━━━━━━━━━━━━━━\u001b[0m\u001b[37m\u001b[0m \u001b[1m51s\u001b[0m 423ms/step - accuracy: 0.9916 - loss: 0.0278\n",
            "Epoch 10/20\n",
            "\u001b[1m120/120\u001b[0m \u001b[32m━━━━━━━━━━━━━━━━━━━━\u001b[0m\u001b[37m\u001b[0m \u001b[1m82s\u001b[0m 422ms/step - accuracy: 0.9922 - loss: 0.0254\n",
            "Epoch 11/20\n",
            "\u001b[1m120/120\u001b[0m \u001b[32m━━━━━━━━━━━━━━━━━━━━\u001b[0m\u001b[37m\u001b[0m \u001b[1m86s\u001b[0m 456ms/step - accuracy: 0.9941 - loss: 0.0198\n",
            "Epoch 12/20\n",
            "\u001b[1m120/120\u001b[0m \u001b[32m━━━━━━━━━━━━━━━━━━━━\u001b[0m\u001b[37m\u001b[0m \u001b[1m52s\u001b[0m 431ms/step - accuracy: 0.9934 - loss: 0.0204\n",
            "Epoch 13/20\n",
            "\u001b[1m120/120\u001b[0m \u001b[32m━━━━━━━━━━━━━━━━━━━━\u001b[0m\u001b[37m\u001b[0m \u001b[1m50s\u001b[0m 418ms/step - accuracy: 0.9943 - loss: 0.0180\n",
            "Epoch 14/20\n",
            "\u001b[1m120/120\u001b[0m \u001b[32m━━━━━━━━━━━━━━━━━━━━\u001b[0m\u001b[37m\u001b[0m \u001b[1m81s\u001b[0m 413ms/step - accuracy: 0.9958 - loss: 0.0151\n",
            "Epoch 15/20\n",
            "\u001b[1m120/120\u001b[0m \u001b[32m━━━━━━━━━━━━━━━━━━━━\u001b[0m\u001b[37m\u001b[0m \u001b[1m52s\u001b[0m 433ms/step - accuracy: 0.9951 - loss: 0.0146\n",
            "Epoch 16/20\n",
            "\u001b[1m120/120\u001b[0m \u001b[32m━━━━━━━━━━━━━━━━━━━━\u001b[0m\u001b[37m\u001b[0m \u001b[1m83s\u001b[0m 445ms/step - accuracy: 0.9963 - loss: 0.0112\n",
            "Epoch 17/20\n",
            "\u001b[1m120/120\u001b[0m \u001b[32m━━━━━━━━━━━━━━━━━━━━\u001b[0m\u001b[37m\u001b[0m \u001b[1m49s\u001b[0m 406ms/step - accuracy: 0.9961 - loss: 0.0116\n",
            "Epoch 18/20\n",
            "\u001b[1m120/120\u001b[0m \u001b[32m━━━━━━━━━━━━━━━━━━━━\u001b[0m\u001b[37m\u001b[0m \u001b[1m84s\u001b[0m 422ms/step - accuracy: 0.9962 - loss: 0.0118\n",
            "Epoch 19/20\n",
            "\u001b[1m120/120\u001b[0m \u001b[32m━━━━━━━━━━━━━━━━━━━━\u001b[0m\u001b[37m\u001b[0m \u001b[1m83s\u001b[0m 430ms/step - accuracy: 0.9977 - loss: 0.0078\n",
            "Epoch 20/20\n",
            "\u001b[1m120/120\u001b[0m \u001b[32m━━━━━━━━━━━━━━━━━━━━\u001b[0m\u001b[37m\u001b[0m \u001b[1m81s\u001b[0m 427ms/step - accuracy: 0.9982 - loss: 0.0061\n",
            "\u001b[1m313/313\u001b[0m \u001b[32m━━━━━━━━━━━━━━━━━━━━\u001b[0m\u001b[37m\u001b[0m \u001b[1m3s\u001b[0m 9ms/step - accuracy: 0.9885 - loss: 0.0474\n",
            "test accuracy: 0.9922999739646912\n"
          ]
        }
      ]
    },
    {
      "cell_type": "code",
      "source": [
        "score = model.evaluate(test_img, test_lab, verbose = 0)"
      ],
      "metadata": {
        "id": "aisynoiczNDd"
      },
      "execution_count": 9,
      "outputs": []
    },
    {
      "cell_type": "code",
      "source": [
        "print(\"test_loss\",score[0])\n",
        "print(\"test_accuracy\",score[1])"
      ],
      "metadata": {
        "colab": {
          "base_uri": "https://localhost:8080/"
        },
        "id": "7j-Y9r2b0JVz",
        "outputId": "c078df7a-fa06-4bc1-c14b-434234513f55"
      },
      "execution_count": 10,
      "outputs": [
        {
          "output_type": "stream",
          "name": "stdout",
          "text": [
            "test_loss 0.03323090448975563\n",
            "test_accuracy 0.9922999739646912\n"
          ]
        }
      ]
    },
    {
      "cell_type": "code",
      "source": [
        "img = test_img[10]\n",
        "pred = model.predict(img.reshape(1,28,28))\n",
        "plt.imshow(img,cmap=\"gray\")\n",
        "plt.title(pred.argmax())"
      ],
      "metadata": {
        "colab": {
          "base_uri": "https://localhost:8080/",
          "height": 487
        },
        "id": "hYWd_7es0QMz",
        "outputId": "f660bccf-7ba6-4dbd-b688-39e42f5d9f74"
      },
      "execution_count": 11,
      "outputs": [
        {
          "output_type": "stream",
          "name": "stdout",
          "text": [
            "\u001b[1m1/1\u001b[0m \u001b[32m━━━━━━━━━━━━━━━━━━━━\u001b[0m\u001b[37m\u001b[0m \u001b[1m0s\u001b[0m 112ms/step\n"
          ]
        },
        {
          "output_type": "execute_result",
          "data": {
            "text/plain": [
              "Text(0.5, 1.0, '0')"
            ]
          },
          "metadata": {},
          "execution_count": 11
        },
        {
          "output_type": "display_data",
          "data": {
            "text/plain": [
              "<Figure size 640x480 with 1 Axes>"
            ],
            "image/png": "[encoded data removed]"
          },
          "metadata": {}
        }
      ]
    }
  ]
}